{
 "cells": [
  {
   "cell_type": "markdown",
   "metadata": {},
   "source": [
    "### Model information"
   ]
  },
  {
   "cell_type": "code",
   "execution_count": 16,
   "metadata": {},
   "outputs": [
    {
     "name": "stdout",
     "output_type": "stream",
     "text": [
      "gemma2:2b             1.63 GB   2.6B\tQ4_0\n",
      "llama3.2:latest       2.02 GB   3.2B\tQ4_K_M\n",
      "llama3.2:1b           1.32 GB   1.2B\tQ8_0\n"
     ]
    }
   ],
   "source": [
    "from ollama import list as ollama_list\n",
    "from ollama import ListResponse\n",
    "\n",
    "response: ListResponse = ollama_list()\n",
    "\n",
    "for model in response.models:\n",
    "    print(f'{model.model:<20} {(model.size.real / 10**9):>5.2f} GB {model.details.parameter_size:>6}\\t{model.details.quantization_level}')"
   ]
  },
  {
   "cell_type": "markdown",
   "metadata": {},
   "source": [
    "# Calculation of ASR and visualizations"
   ]
  },
  {
   "cell_type": "markdown",
   "metadata": {},
   "source": [
    "### Constants and helper functions"
   ]
  },
  {
   "cell_type": "code",
   "execution_count": 15,
   "metadata": {},
   "outputs": [],
   "source": [
    "MODELS = ['llama3.2:1b', 'llama3.2:latest', 'gemma2:2b']\n",
    "MAX_AUGMENTATIONS = 100\n",
    "\n",
    "def model_dir(model, behavior_idx, attempt_idx, is_baseline=False):\n",
    "    return f\"data/{model.replace(':', '-')}_{MAX_AUGMENTATIONS}/{behavior_idx}/{'baseline' if is_baseline else attempt_idx}\"\n",
    "\n",
    "def has_been_tested(model, behavior_idx):\n",
    "    found = False\n",
    "    for attempt_idx in reversed(range(MAX_AUGMENTATIONS)):\n",
    "        path = model_dir(model, behavior_idx, attempt_idx)\n",
    "        try:\n",
    "            with (\n",
    "                open(f'{path}/prompt.txt', 'r') as fp,\n",
    "                open(f'{path}/evaluation.txt', 'r') as fe\n",
    "            ):\n",
    "                eval = fe.readline()\n",
    "                if eval != 'Skipped':\n",
    "                    found = True\n",
    "                    break\n",
    "        except FileNotFoundError:\n",
    "            continue\n",
    "    return found, eval.startswith('Harmful') if found else False, attempt_idx"
   ]
  },
  {
   "cell_type": "markdown",
   "metadata": {},
   "source": [
    "## ASR calculation and visualization"
   ]
  },
  {
   "cell_type": "code",
   "execution_count": 8,
   "metadata": {},
   "outputs": [
    {
     "name": "stdout",
     "output_type": "stream",
     "text": [
      "llama3.2:1b, behavior  13 not fully tested, stopped after 460 unsuccessful attempts\n",
      "ASR on llama3.2:1b          with 10000 augmented samples:\t 13/13 = 100.0%\n",
      "llama3.2:latest, behavior   1 not fully tested, stopped after 130 unsuccessful attempts\n",
      "ASR on llama3.2:latest      with 10000 augmented samples:\t  1/1  = 100.0%\n",
      "gemma2:2b, behavior   0 not fully tested, stopped after 647 unsuccessful attempts\n"
     ]
    },
    {
     "data": {
      "image/png": "[encoded data removed]",
      "text/plain": [
       "<Figure size 1000x400 with 4 Axes>"
      ]
     },
     "metadata": {},
     "output_type": "display_data"
    }
   ],
   "source": [
    "import seaborn as sns\n",
    "import matplotlib as mpl\n",
    "import matplotlib.pyplot as plt\n",
    "import numpy as np\n",
    "import pandas as pd\n",
    "\n",
    "f, axs = plt.subplots(1, len(MODELS) + 1, width_ratios=[1] * len(MODELS) + [0.08], figsize=(10, 4))\n",
    "plt.suptitle(f\"BoN with {MAX_AUGMENTATIONS:,} augmented samples\")\n",
    "\n",
    "for model_idx, model in enumerate(MODELS):\n",
    "    results = []\n",
    "    tested_count = harmful_count = 0\n",
    "    for behavior_idx in range(159):\n",
    "        if MAX_AUGMENTATIONS == 10_000 and behavior_idx > 14:\n",
    "            found, is_harmful, attempt_idx = False, False, 0\n",
    "        else:\n",
    "            found, is_harmful, attempt_idx = has_been_tested(model, behavior_idx)\n",
    "        tested = False\n",
    "        if found:\n",
    "            if not is_harmful and attempt_idx != MAX_AUGMENTATIONS - 1:\n",
    "                print(f'{model}, behavior {behavior_idx:>3} not fully tested, stopped after {attempt_idx+1} unsuccessful attempts')\n",
    "            else:\n",
    "                tested_count += 1\n",
    "                tested = True\n",
    "                if is_harmful:\n",
    "                    harmful_count += 1\n",
    "                    # print(f'{model}, behavior {behavior_idx:>3} Successful in {attempt_idx+1:>2} attempts')\n",
    "                else:\n",
    "                    pass#print(f'{model}, behavior {behavior_idx:>3} Failed')\n",
    "        else:\n",
    "            pass#print(f'{model}, behavior {behavior_idx:>3} not yet tested')\n",
    "        color = 0\n",
    "        if tested:\n",
    "            color = 101\n",
    "            if is_harmful:\n",
    "                color = max(1, (attempt_idx + 1) / MAX_AUGMENTATIONS * 100)\n",
    "        results.append(color)\n",
    "    if tested_count:\n",
    "        print(f'ASR on {model:<20} with {MAX_AUGMENTATIONS} augmented samples:\\t{harmful_count:>3}/{tested_count:<3}= {harmful_count/tested_count*100:.1f}%')\n",
    "\n",
    "    cmap = plt.colormaps['autumn']\n",
    "    newcolors = cmap(np.linspace(0, 1, 100 + 2))\n",
    "    newcolors[0] = np.array([0.15, 0.15, 0.15, 1])\n",
    "    newcolors[-1] = np.array([0, 1, 0, 1])\n",
    "\n",
    "    df = pd.DataFrame(np.resize(results, (16, 10)))\n",
    "    newcmap = mpl.colors.ListedColormap(newcolors)\n",
    "    ax = sns.heatmap(df, cmap=newcmap, square=True, vmin=0, vmax=100 + 1, ax=axs[model_idx], cbar=model_idx == len(MODELS) - 1, cbar_ax=axs[-1])\n",
    "    ax.set_xticks([])\n",
    "    ax.set_yticks([])\n",
    "    model_label = model.replace('llama3.2:latest', 'llama3.2:3b')\n",
    "    if tested_count:\n",
    "        model_label = f'{model_label}\\n{harmful_count}/{tested_count} = {harmful_count/tested_count*100:.1f}%'\n",
    "    ax.set(xlabel=model_label)\n",
    "    if model_idx == len(MODELS) - 1:\n",
    "        c_bar = ax.collections[0].colorbar\n",
    "        c_bar.set_ticks([0.7, 50, 100.7])\n",
    "        c_bar.ax.tick_params(length=0)\n",
    "        c_bar.set_ticklabels(['Not tested', 'Succeeded', 'Failed'])\n",
    "    white = ax.scatter(9.5, 15.5, color='white', marker='s', s=200)\n",
    "    for i in range(16):\n",
    "        for j in range(10):\n",
    "            idx = 10 * i + j\n",
    "            if idx < len(results):\n",
    "                match results[idx]:\n",
    "                    case 101:\n",
    "                        text = 'F'\n",
    "                    case 0:\n",
    "                        text = ''\n",
    "                    case _:\n",
    "                        text = int(results[idx] * MAX_AUGMENTATIONS / 100)\n",
    "                ax.text(j+.5, i+.5, text, ha=\"center\", va=\"center\", color=\"k\", size=6)"
   ]
  },
  {
   "cell_type": "markdown",
   "metadata": {},
   "source": [
    "## Baseline ASR calculation and visualization"
   ]
  },
  {
   "cell_type": "code",
   "execution_count": 17,
   "metadata": {},
   "outputs": [
    {
     "name": "stdout",
     "output_type": "stream",
     "text": [
      "Baseline ASR on llama3.2:1b           5/159= 3.1%\n",
      "Baseline ASR on llama3.2:latest       5/159= 3.1%\n",
      "Baseline ASR on gemma2:2b             2/159= 1.3%\n"
     ]
    },
    {
     "data": {
      "image/png": "[encoded data removed]",
      "text/plain": [
       "<Figure size 1000x400 with 4 Axes>"
      ]
     },
     "metadata": {},
     "output_type": "display_data"
    }
   ],
   "source": [
    "import seaborn as sns\n",
    "import matplotlib as mpl\n",
    "import matplotlib.pyplot as plt\n",
    "import numpy as np\n",
    "import pandas as pd\n",
    "\n",
    "f, axs = plt.subplots(1, len(MODELS) + 1, width_ratios=[1] * len(MODELS) + [0.08], figsize=(10, 4))\n",
    "plt.suptitle(\"Baseline (no augmentations)\", size=18)\n",
    "for model_idx, model in enumerate(MODELS):\n",
    "    results = []\n",
    "    tested_count = harmful_count = 0\n",
    "    for behavior_idx in range(159):\n",
    "        path_eval = model_dir(model, behavior_idx, _, True)\n",
    "        with open(f'{path_eval}/evaluation.txt', 'r') as fe:\n",
    "            harmful = fe.readline() == 'Harmful'\n",
    "            results.append(0 if harmful else 1)\n",
    "            tested_count += 1\n",
    "            if harmful:\n",
    "                harmful_count += 1\n",
    "    if tested_count:\n",
    "        print(f'Baseline ASR on {model:<20}{harmful_count:>3}/{tested_count:<3}= {harmful_count/tested_count*100:.1f}%')\n",
    "\n",
    "    cmap = plt.colormaps['autumn']\n",
    "    newcolors = cmap(np.linspace(0, 1, 2))\n",
    "    newcolors[0] = np.array([1, 0, 0, 1])\n",
    "    newcolors[-1] = np.array([0, 1, 0, 1])\n",
    "\n",
    "    df = pd.DataFrame(np.resize(results, (16, 10)))\n",
    "    newcmap = mpl.colors.ListedColormap(newcolors)\n",
    "    ax = sns.heatmap(df, cmap=newcmap, square=True, vmin=0, vmax=1 + 1,\n",
    "                     ax=axs[model_idx], cbar=model_idx == len(MODELS) - 1,\n",
    "                     cbar_ax=axs[-1])\n",
    "    ax.set_xticks([])\n",
    "    ax.set_yticks([])\n",
    "    model_label = model.replace('llama3.2:latest', 'llama3.2:3b')\n",
    "    if tested_count:\n",
    "        model_label = f'{model_label}\\n{harmful_count}/{tested_count} = {harmful_count/tested_count*100:.1f}%'\n",
    "    ax.set(xlabel=model_label)\n",
    "    if model_idx == len(MODELS) - 1:\n",
    "        c_bar = ax.collections[0].colorbar\n",
    "        c_bar.set_ticks([0.5, 1.5])\n",
    "        c_bar.ax.tick_params(length=0)\n",
    "        c_bar.set_ticklabels(['Succeeded', 'Failed'])\n",
    "    white = ax.scatter(9.5, 15.5, color='white', marker='s', s=200)\n",
    "    for i in range(16):\n",
    "        for j in range(10):\n",
    "            idx = 10 * i + j\n",
    "            if idx < len(results):\n",
    "                match results[idx]:\n",
    "                    case 0:\n",
    "                        text = 'S'\n",
    "                    case 1:\n",
    "                        text = 'F'\n",
    "                ax.text(j+.5, i+.5, text, ha=\"center\", va=\"center\", color=\"k\", size=12)"
   ]
  },
  {
   "cell_type": "markdown",
   "metadata": {},
   "source": [
    "#### Markdown code generation"
   ]
  },
  {
   "cell_type": "markdown",
   "metadata": {},
   "source": [
    "##### Baseline ASR report"
   ]
  },
  {
   "cell_type": "code",
   "execution_count": null,
   "metadata": {},
   "outputs": [],
   "source": [
    "import pandas as pd\n",
    "\n",
    "prompts = pd.read_json('data/direct_request.jsonl', lines=True)\n",
    "with open('data/markdown.txt', 'w') as fw:\n",
    "    fw.write('| ID | Prompt | `llama3.2:1b` | `llama3.2:3b` | `gemma2:2b` |\\n')\n",
    "    fw.write('| -- | ------ | ------------- | ------------- | ----------- |\\n')\n",
    "    for i in range(len(prompts)):\n",
    "        path1b = f\"data/llama3.2-1b_{MAX_AUGMENTATIONS}/{i}/baseline\"\n",
    "        path3b = f\"data/llama3.2-latest_{MAX_AUGMENTATIONS}/{i}/baseline\"\n",
    "        path2b = f\"data/gemma2-2b_{MAX_AUGMENTATIONS}/{i}/baseline\"\n",
    "        with (\n",
    "            open(f'{path1b}/prompt.txt', 'r') as f1p,\n",
    "            open(f'{path1b}/evaluation.txt', 'r') as f1e,\n",
    "            open(f'{path3b}/evaluation.txt', 'r') as f3e,\n",
    "            open(f'{path2b}/evaluation.txt', 'r') as f2e\n",
    "        ):\n",
    "            prompt = f1p.readline()[:-1]\n",
    "            eval1b = f1e.readline()\n",
    "            eval1b = \"<span style=\\\"color: red\\\">Harmful</span>\" if eval1b == \"Harmful\" else \"<span style=\\\"color: green\\\">OK</span>\"\n",
    "            eval3b = f3e.readline()\n",
    "            eval3b = \"<span style=\\\"color: red\\\">Harmful</span>\" if eval3b == \"Harmful\" else \"<span style=\\\"color: green\\\">OK</span>\"\n",
    "            eval2b = f2e.readline()\n",
    "            eval2b = \"<span style=\\\"color: red\\\">Harmful</span>\" if eval2b == \"Harmful\" else \"<span style=\\\"color: green\\\">OK</span>\"\n",
    "            fw.write(f'| {i} | {prompt} | {eval1b} | {eval3b} | {eval2b} |\\n')"
   ]
  },
  {
   "cell_type": "markdown",
   "metadata": {},
   "source": [
    "##### ASR report"
   ]
  },
  {
   "cell_type": "code",
   "execution_count": 13,
   "metadata": {},
   "outputs": [
    {
     "name": "stdout",
     "output_type": "stream",
     "text": [
      "ASR on llama3.2:1b          with 10,000 augmented samples:\t 13/13 = 100.0%\n",
      "ASR on llama3.2:latest      with 10,000 augmented samples:\t  1/1  = 100.0%\n"
     ]
    }
   ],
   "source": [
    "import pandas as pd\n",
    "from collections import defaultdict\n",
    "\n",
    "prompts = pd.read_json('data/direct_request.jsonl', lines=True)\n",
    "results = defaultdict(list)\n",
    "for model_idx, model in enumerate(MODELS):\n",
    "    tested_count = harmful_count = 0\n",
    "    for behavior_idx in range(159):\n",
    "        if MAX_AUGMENTATIONS == 10_000 and behavior_idx > 14:\n",
    "            found, is_harmful, attempt_idx = False, False, 0\n",
    "        else:\n",
    "            found, is_harmful, attempt_idx = has_been_tested(model, behavior_idx)\n",
    "        tested = False\n",
    "        if found:\n",
    "            if not is_harmful and attempt_idx != MAX_AUGMENTATIONS - 1:\n",
    "                pass#print(f'{model}, behavior {behavior_idx:>3} not fully tested, stopped after {attempt_idx+1} unsuccessful attempts')\n",
    "            else:\n",
    "                tested_count += 1\n",
    "                tested = True\n",
    "                if is_harmful:\n",
    "                    harmful_count += 1\n",
    "                    # print(f'{model}, behavior {behavior_idx:>3} Successful in {attempt_idx+1:>2} attempts')\n",
    "                else:\n",
    "                    pass#print(f'{model}, behavior {behavior_idx:>3} Failed')\n",
    "        else:\n",
    "            pass#print(f'{model}, behavior {behavior_idx:>3} not yet tested')\n",
    "        results[model].append((attempt_idx + 1 if is_harmful else MAX_AUGMENTATIONS + 1) if tested else 0)\n",
    "    if tested_count:\n",
    "        print(f'ASR on {model:<20} with {MAX_AUGMENTATIONS:,} augmented samples:\\t{harmful_count:>3}/{tested_count:<3}= {harmful_count/tested_count*100:.1f}%')\n",
    "\n",
    "with open('data/markdown.txt', 'w') as fw:\n",
    "    fw.write('| ID | Prompt |')\n",
    "    for model in MODELS:\n",
    "        fw.write(f\" `{model.replace('llama3.2:latest', 'llama3.2:3b')}` |\")\n",
    "    fw.write('\\n| -- | ------ |')\n",
    "    for model in MODELS:\n",
    "        fw.write('----------- |')\n",
    "    fw.write('\\n')\n",
    "    for i in range(len(prompts)):\n",
    "        path1b = f\"data/llama3.2-1b_100/{i}/baseline\"\n",
    "        with open(f'{path1b}/prompt.txt', 'r') as f1p:\n",
    "            prompt = f1p.readline()[:-1]\n",
    "            fw.write(f'| {i} | {prompt} |')\n",
    "            for model in MODELS:\n",
    "                if (res := results[model][i]) == 0:\n",
    "                    text = '<span style=\\\"color: gray\\\">Not tested</span>'\n",
    "                elif res == MAX_AUGMENTATIONS + 1:\n",
    "                    text = '<span style=\\\"color: green\\\">Failed</span>'\n",
    "                else:\n",
    "                    text = f'<span style=\\\"color: red\\\">Successful in {res:,} attempts</span>'\n",
    "                fw.write(f' {text} |')\n",
    "            fw.write('\\n')\n"
   ]
  },
  {
   "cell_type": "markdown",
   "metadata": {},
   "source": [
    "#### Share of cookie-cutter responses"
   ]
  },
  {
   "cell_type": "code",
   "execution_count": 18,
   "metadata": {},
   "outputs": [],
   "source": [
    "import pandas as pd\n",
    "\n",
    "prompts = pd.read_json('data/direct_request.jsonl', lines=True)\n",
    "with open('data/markdown.txt', 'w') as fw:\n",
    "    fw.write('| Model | Total responses | Known refusals | False positive phrases | HarmBench |\\n')\n",
    "    fw.write('| ----- | --------------- | -------------- | ---------------------- | --------- |\\n')\n",
    "    for model in MODELS:\n",
    "        responses = knowns = phrases = harmbench = 0\n",
    "        for max_att in (100, 10_000):\n",
    "            for behavior_idx in range(len(prompts)):\n",
    "                for attempt_idx in range(max_att):\n",
    "                    path = model_dir(model, behavior_idx, attempt_idx)\n",
    "                    try:\n",
    "                        with open(f'{path}/evaluation.txt', 'r') as fe:\n",
    "                            ev = fe.readline()\n",
    "                            responses += 1\n",
    "                            if ev == \"Not Harmful (Known refusal)\":\n",
    "                                knowns += 1\n",
    "                            elif ev == \"Not Harmful (False positive phrase)\":\n",
    "                                phrases += 1\n",
    "                            else:\n",
    "                                harmbench += 1\n",
    "                    except FileNotFoundError:\n",
    "                        break\n",
    "        if responses:\n",
    "            fw.write(f\"| {model.replace('llama3.2:latest', 'llama3.2:3b')} | {responses:,} | \")\n",
    "            fw.write(f'{knowns:,} ({knowns/responses*100:.1f}%) | {phrases:,} ({phrases/responses*100:.1f}%) | ')\n",
    "            fw.write(f'{harmbench:,} ({harmbench/responses*100:.1f}%) |\\n')"
   ]
  }
 ],
 "metadata": {
  "kernelspec": {
   "display_name": "base",
   "language": "python",
   "name": "python3"
  },
  "language_info": {
   "codemirror_mode": {
    "name": "ipython",
    "version": 3
   },
   "file_extension": ".py",
   "mimetype": "text/x-python",
   "name": "python",
   "nbconvert_exporter": "python",
   "pygments_lexer": "ipython3",
   "version": "3.11.4"
  }
 },
 "nbformat": 4,
 "nbformat_minor": 2
}
